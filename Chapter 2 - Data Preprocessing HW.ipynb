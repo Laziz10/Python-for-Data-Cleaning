{
 "cells": [
  {
   "cell_type": "markdown",
   "metadata": {},
   "source": [
    "![title](img/unc-charlotte-logo.gif)"
   ]
  },
  {
   "cell_type": "markdown",
   "metadata": {},
   "source": [
    "### <font color = 'green'> Your Name:\n",
    "    "
   ]
  },
  {
   "cell_type": "markdown",
   "metadata": {},
   "source": [
    "#### Instructions:\n",
    "*answer the questions below with code or narrative as indicated. Each question counts 9 points with the exception of the last question which counts 10 points."
   ]
  },
  {
   "cell_type": "code",
   "execution_count": 1,
   "metadata": {},
   "outputs": [
    {
     "name": "stderr",
     "output_type": "stream",
     "text": [
      "C:\\Users\\pthompso\\AppData\\Local\\Continuum\\anaconda3\\lib\\site-packages\\numpy\\_distributor_init.py:32: UserWarning: loaded more than 1 DLL from .libs:\n",
      "C:\\Users\\pthompso\\AppData\\Local\\Continuum\\anaconda3\\lib\\site-packages\\numpy\\.libs\\libopenblas.PYQHXLVVQ7VESDPUVUADXEVJOBGHJPAY.gfortran-win_amd64.dll\n",
      "C:\\Users\\pthompso\\AppData\\Local\\Continuum\\anaconda3\\lib\\site-packages\\numpy\\.libs\\libopenblas.TXA6YQSD3GCQQC22GEQ54J2UDCXDXHWN.gfortran-win_amd64.dll\n",
      "  stacklevel=1)\n"
     ]
    }
   ],
   "source": [
    "# import the churn dataset\n",
    "import pandas as pd\n",
    "import numpy as np\n",
    "\n",
    "churn = pd.read_csv(\"data/churn.txt\")"
   ]
  },
  {
   "cell_type": "markdown",
   "metadata": {},
   "source": [
    "<font color = 'green'> (A) </font> *What kind of files can Python work with?* Answer with narrative in this markdown cell.\n",
    "\n",
    "<font color = 'green'> <b>Answer:</b> </font>"
   ]
  },
  {
   "cell_type": "markdown",
   "metadata": {},
   "source": [
    "<font color = 'green'> (B) </font> Understanding structure of data:  Write and execute code to look at the top rows of data. Answer with code in the cell below.\n",
    "</font>"
   ]
  },
  {
   "cell_type": "code",
   "execution_count": 3,
   "metadata": {},
   "outputs": [],
   "source": [
    "#Code for (B)"
   ]
  },
  {
   "cell_type": "markdown",
   "metadata": {},
   "source": [
    "<font color = 'green'> (C) </font> Understanding structure of data:  Write and execute code to look at the columns and data types. Answer with code in the cell below.\n",
    "</font>"
   ]
  },
  {
   "cell_type": "code",
   "execution_count": 4,
   "metadata": {},
   "outputs": [],
   "source": [
    "#Code for (C)"
   ]
  },
  {
   "cell_type": "markdown",
   "metadata": {},
   "source": [
    "<font color = 'green'> (D) </font> *What is apply function for, what are its parameters?*\n",
    "\n",
    "<font color = 'green'> Narrative for (D)</font>\n",
    "\n",
    "<font color = 'green'> (E) </font> *Which columns are numerical columns?*\n",
    "\n",
    "<font color = 'green'> Narrative for (E)</font>\n",
    "\n",
    "<font color = 'green'> (F) </font> *Does the churn dataset contain categorical variables? Which columns?*\n",
    "\n",
    "<font color = 'green'> Narrative for (F) </font>\n",
    "\n"
   ]
  },
  {
   "cell_type": "markdown",
   "metadata": {},
   "source": [
    "<font color = 'green'> (G) </font> Missing Values:  Write and execute code to determine if there are missing values.  Add comments in the code block to include the columns with missing values, if any. Answer with code in the cell below.\n",
    "</font>"
   ]
  },
  {
   "cell_type": "code",
   "execution_count": 5,
   "metadata": {},
   "outputs": [],
   "source": [
    "#Code for (G)"
   ]
  },
  {
   "cell_type": "markdown",
   "metadata": {},
   "source": [
    "<font color = 'green'> (H) </font> *What are the different ways you have learned to fix missing data issues?*\n",
    "\n",
    "<font color = 'green'>(H) Narrative Answer</font>\n"
   ]
  },
  {
   "cell_type": "markdown",
   "metadata": {},
   "source": [
    "<font color = 'green'> (I) </font> Use code to describe the numerical columns (statistical measures). Place the code below.</font>\n"
   ]
  },
  {
   "cell_type": "code",
   "execution_count": 6,
   "metadata": {},
   "outputs": [],
   "source": [
    "#Code for (I)"
   ]
  },
  {
   "cell_type": "markdown",
   "metadata": {},
   "source": [
    "<font color = 'green'> (J) </font> What are the different ways you have learned to correct different scales for numerical features in the data?  Write narrative in this markdown block.</font><p>\n",
    "(J) Narrative Answer:"
   ]
  },
  {
   "cell_type": "markdown",
   "metadata": {},
   "source": [
    "<font color = 'green'> (K) </font> 1.To achieve normality first we need to achieve symmetry\n",
    "2.To achieve symmetry we need to reduce skewness.\n",
    "  Write narrative in this markdown block stating if this is important for this dataset.  Why or why not?  Use code to strengthen your answer if necessary.</font><p>\n",
    "(K) Narrative Answer:"
   ]
  },
  {
   "cell_type": "code",
   "execution_count": 7,
   "metadata": {},
   "outputs": [],
   "source": [
    "#Code for (J)"
   ]
  }
 ],
 "metadata": {
  "kernelspec": {
   "display_name": "Python 3",
   "language": "python",
   "name": "python3"
  },
  "language_info": {
   "codemirror_mode": {
    "name": "ipython",
    "version": 3
   },
   "file_extension": ".py",
   "mimetype": "text/x-python",
   "name": "python",
   "nbconvert_exporter": "python",
   "pygments_lexer": "ipython3",
   "version": "3.7.4"
  }
 },
 "nbformat": 4,
 "nbformat_minor": 2
}
